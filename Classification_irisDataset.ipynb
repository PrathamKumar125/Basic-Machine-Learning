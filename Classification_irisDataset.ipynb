{
  "cells": [
    {
      "cell_type": "markdown",
      "metadata": {
        "id": "view-in-github",
        "colab_type": "text"
      },
      "source": [
        "<a href=\"https://colab.research.google.com/github/PrathamKumar125/Basic-Machine-Learning/blob/master/Classification_irisDataset.ipynb\" target=\"_parent\"><img src=\"https://colab.research.google.com/assets/colab-badge.svg\" alt=\"Open In Colab\"/></a>"
      ]
    },
    {
      "cell_type": "code",
      "execution_count": null,
      "metadata": {
        "colab": {
          "base_uri": "https://localhost:8080/",
          "height": 423
        },
        "id": "vftL99trFLtN",
        "outputId": "d2083e80-bc7c-4634-ce42-3b170a7073a7"
      },
      "outputs": [
        {
          "data": {
            "text/html": [
              "\n",
              "  <div id=\"df-5a89a47a-ae88-4463-b56a-4d67011abd6f\">\n",
              "    <div class=\"colab-df-container\">\n",
              "      <div>\n",
              "<style scoped>\n",
              "    .dataframe tbody tr th:only-of-type {\n",
              "        vertical-align: middle;\n",
              "    }\n",
              "\n",
              "    .dataframe tbody tr th {\n",
              "        vertical-align: top;\n",
              "    }\n",
              "\n",
              "    .dataframe thead th {\n",
              "        text-align: right;\n",
              "    }\n",
              "</style>\n",
              "<table border=\"1\" class=\"dataframe\">\n",
              "  <thead>\n",
              "    <tr style=\"text-align: right;\">\n",
              "      <th></th>\n",
              "      <th>sepal_length</th>\n",
              "      <th>sepal_width</th>\n",
              "      <th>petal_length</th>\n",
              "      <th>petal_width</th>\n",
              "      <th>species</th>\n",
              "    </tr>\n",
              "  </thead>\n",
              "  <tbody>\n",
              "    <tr>\n",
              "      <th>0</th>\n",
              "      <td>5.1</td>\n",
              "      <td>3.5</td>\n",
              "      <td>1.4</td>\n",
              "      <td>0.2</td>\n",
              "      <td>Iris-setosa</td>\n",
              "    </tr>\n",
              "    <tr>\n",
              "      <th>1</th>\n",
              "      <td>NaN</td>\n",
              "      <td>3.0</td>\n",
              "      <td>1.4</td>\n",
              "      <td>0.2</td>\n",
              "      <td>Iris-setosa</td>\n",
              "    </tr>\n",
              "    <tr>\n",
              "      <th>2</th>\n",
              "      <td>NaN</td>\n",
              "      <td>3.2</td>\n",
              "      <td>1.3</td>\n",
              "      <td>0.2</td>\n",
              "      <td>Iris-setosa</td>\n",
              "    </tr>\n",
              "    <tr>\n",
              "      <th>3</th>\n",
              "      <td>NaN</td>\n",
              "      <td>3.1</td>\n",
              "      <td>NaN</td>\n",
              "      <td>0.2</td>\n",
              "      <td>Iris-setosa</td>\n",
              "    </tr>\n",
              "    <tr>\n",
              "      <th>4</th>\n",
              "      <td>NaN</td>\n",
              "      <td>3.6</td>\n",
              "      <td>NaN</td>\n",
              "      <td>0.2</td>\n",
              "      <td>Iris-setosa</td>\n",
              "    </tr>\n",
              "    <tr>\n",
              "      <th>...</th>\n",
              "      <td>...</td>\n",
              "      <td>...</td>\n",
              "      <td>...</td>\n",
              "      <td>...</td>\n",
              "      <td>...</td>\n",
              "    </tr>\n",
              "    <tr>\n",
              "      <th>145</th>\n",
              "      <td>6.7</td>\n",
              "      <td>3.0</td>\n",
              "      <td>5.2</td>\n",
              "      <td>2.3</td>\n",
              "      <td>Iris-virginica</td>\n",
              "    </tr>\n",
              "    <tr>\n",
              "      <th>146</th>\n",
              "      <td>6.3</td>\n",
              "      <td>2.5</td>\n",
              "      <td>5.0</td>\n",
              "      <td>1.9</td>\n",
              "      <td>Iris-virginica</td>\n",
              "    </tr>\n",
              "    <tr>\n",
              "      <th>147</th>\n",
              "      <td>6.5</td>\n",
              "      <td>3.0</td>\n",
              "      <td>5.2</td>\n",
              "      <td>2.0</td>\n",
              "      <td>Iris-virginica</td>\n",
              "    </tr>\n",
              "    <tr>\n",
              "      <th>148</th>\n",
              "      <td>6.2</td>\n",
              "      <td>3.4</td>\n",
              "      <td>5.4</td>\n",
              "      <td>2.3</td>\n",
              "      <td>Iris-virginica</td>\n",
              "    </tr>\n",
              "    <tr>\n",
              "      <th>149</th>\n",
              "      <td>5.9</td>\n",
              "      <td>3.0</td>\n",
              "      <td>5.1</td>\n",
              "      <td>1.8</td>\n",
              "      <td>Iris-virginica</td>\n",
              "    </tr>\n",
              "  </tbody>\n",
              "</table>\n",
              "<p>150 rows × 5 columns</p>\n",
              "</div>\n",
              "      <button class=\"colab-df-convert\" onclick=\"convertToInteractive('df-5a89a47a-ae88-4463-b56a-4d67011abd6f')\"\n",
              "              title=\"Convert this dataframe to an interactive table.\"\n",
              "              style=\"display:none;\">\n",
              "        \n",
              "  <svg xmlns=\"http://www.w3.org/2000/svg\" height=\"24px\"viewBox=\"0 0 24 24\"\n",
              "       width=\"24px\">\n",
              "    <path d=\"M0 0h24v24H0V0z\" fill=\"none\"/>\n",
              "    <path d=\"M18.56 5.44l.94 2.06.94-2.06 2.06-.94-2.06-.94-.94-2.06-.94 2.06-2.06.94zm-11 1L8.5 8.5l.94-2.06 2.06-.94-2.06-.94L8.5 2.5l-.94 2.06-2.06.94zm10 10l.94 2.06.94-2.06 2.06-.94-2.06-.94-.94-2.06-.94 2.06-2.06.94z\"/><path d=\"M17.41 7.96l-1.37-1.37c-.4-.4-.92-.59-1.43-.59-.52 0-1.04.2-1.43.59L10.3 9.45l-7.72 7.72c-.78.78-.78 2.05 0 2.83L4 21.41c.39.39.9.59 1.41.59.51 0 1.02-.2 1.41-.59l7.78-7.78 2.81-2.81c.8-.78.8-2.07 0-2.86zM5.41 20L4 18.59l7.72-7.72 1.47 1.35L5.41 20z\"/>\n",
              "  </svg>\n",
              "      </button>\n",
              "      \n",
              "  <style>\n",
              "    .colab-df-container {\n",
              "      display:flex;\n",
              "      flex-wrap:wrap;\n",
              "      gap: 12px;\n",
              "    }\n",
              "\n",
              "    .colab-df-convert {\n",
              "      background-color: #E8F0FE;\n",
              "      border: none;\n",
              "      border-radius: 50%;\n",
              "      cursor: pointer;\n",
              "      display: none;\n",
              "      fill: #1967D2;\n",
              "      height: 32px;\n",
              "      padding: 0 0 0 0;\n",
              "      width: 32px;\n",
              "    }\n",
              "\n",
              "    .colab-df-convert:hover {\n",
              "      background-color: #E2EBFA;\n",
              "      box-shadow: 0px 1px 2px rgba(60, 64, 67, 0.3), 0px 1px 3px 1px rgba(60, 64, 67, 0.15);\n",
              "      fill: #174EA6;\n",
              "    }\n",
              "\n",
              "    [theme=dark] .colab-df-convert {\n",
              "      background-color: #3B4455;\n",
              "      fill: #D2E3FC;\n",
              "    }\n",
              "\n",
              "    [theme=dark] .colab-df-convert:hover {\n",
              "      background-color: #434B5C;\n",
              "      box-shadow: 0px 1px 3px 1px rgba(0, 0, 0, 0.15);\n",
              "      filter: drop-shadow(0px 1px 2px rgba(0, 0, 0, 0.3));\n",
              "      fill: #FFFFFF;\n",
              "    }\n",
              "  </style>\n",
              "\n",
              "      <script>\n",
              "        const buttonEl =\n",
              "          document.querySelector('#df-5a89a47a-ae88-4463-b56a-4d67011abd6f button.colab-df-convert');\n",
              "        buttonEl.style.display =\n",
              "          google.colab.kernel.accessAllowed ? 'block' : 'none';\n",
              "\n",
              "        async function convertToInteractive(key) {\n",
              "          const element = document.querySelector('#df-5a89a47a-ae88-4463-b56a-4d67011abd6f');\n",
              "          const dataTable =\n",
              "            await google.colab.kernel.invokeFunction('convertToInteractive',\n",
              "                                                     [key], {});\n",
              "          if (!dataTable) return;\n",
              "\n",
              "          const docLinkHtml = 'Like what you see? Visit the ' +\n",
              "            '<a target=\"_blank\" href=https://colab.research.google.com/notebooks/data_table.ipynb>data table notebook</a>'\n",
              "            + ' to learn more about interactive tables.';\n",
              "          element.innerHTML = '';\n",
              "          dataTable['output_type'] = 'display_data';\n",
              "          await google.colab.output.renderOutput(dataTable, element);\n",
              "          const docLink = document.createElement('div');\n",
              "          docLink.innerHTML = docLinkHtml;\n",
              "          element.appendChild(docLink);\n",
              "        }\n",
              "      </script>\n",
              "    </div>\n",
              "  </div>\n",
              "  "
            ],
            "text/plain": [
              "     sepal_length  sepal_width  petal_length  petal_width         species\n",
              "0             5.1          3.5           1.4          0.2     Iris-setosa\n",
              "1             NaN          3.0           1.4          0.2     Iris-setosa\n",
              "2             NaN          3.2           1.3          0.2     Iris-setosa\n",
              "3             NaN          3.1           NaN          0.2     Iris-setosa\n",
              "4             NaN          3.6           NaN          0.2     Iris-setosa\n",
              "..            ...          ...           ...          ...             ...\n",
              "145           6.7          3.0           5.2          2.3  Iris-virginica\n",
              "146           6.3          2.5           5.0          1.9  Iris-virginica\n",
              "147           6.5          3.0           5.2          2.0  Iris-virginica\n",
              "148           6.2          3.4           5.4          2.3  Iris-virginica\n",
              "149           5.9          3.0           5.1          1.8  Iris-virginica\n",
              "\n",
              "[150 rows x 5 columns]"
            ]
          },
          "execution_count": 1,
          "metadata": {},
          "output_type": "execute_result"
        }
      ],
      "source": [
        "import pandas as pd\n",
        "df=pd.read_csv(\"/content/IRIS_C.csv\")\n",
        "df"
      ]
    },
    {
      "cell_type": "code",
      "execution_count": null,
      "metadata": {
        "colab": {
          "base_uri": "https://localhost:8080/"
        },
        "id": "pWkX7X1uM-uN",
        "outputId": "876cac18-5811-48cd-bfec-8a3d533fac91"
      },
      "outputs": [
        {
          "data": {
            "text/plain": [
              "(137, 5)"
            ]
          },
          "execution_count": 2,
          "metadata": {},
          "output_type": "execute_result"
        }
      ],
      "source": [
        "df1=df.dropna()\n",
        "df1.shape"
      ]
    },
    {
      "cell_type": "code",
      "execution_count": null,
      "metadata": {
        "colab": {
          "base_uri": "https://localhost:8080/"
        },
        "id": "A6QGMvVSNg9F",
        "outputId": "5529091b-1f3a-4093-fdf5-b4e5b8381899"
      },
      "outputs": [
        {
          "name": "stdout",
          "output_type": "stream",
          "text": [
            "<class 'pandas.core.frame.DataFrame'>\n",
            "RangeIndex: 150 entries, 0 to 149\n",
            "Data columns (total 5 columns):\n",
            " #   Column        Non-Null Count  Dtype  \n",
            "---  ------        --------------  -----  \n",
            " 0   sepal_length  144 non-null    float64\n",
            " 1   sepal_width   143 non-null    float64\n",
            " 2   petal_length  147 non-null    float64\n",
            " 3   petal_width   150 non-null    float64\n",
            " 4   species       150 non-null    object \n",
            "dtypes: float64(4), object(1)\n",
            "memory usage: 6.0+ KB\n"
          ]
        }
      ],
      "source": [
        "df.info()"
      ]
    },
    {
      "cell_type": "code",
      "execution_count": null,
      "metadata": {
        "colab": {
          "base_uri": "https://localhost:8080/"
        },
        "id": "ghmanSleNv1a",
        "outputId": "5b2ed620-7a4f-48e3-8694-4888105bfa5c"
      },
      "outputs": [
        {
          "data": {
            "text/plain": [
              "Iris-setosa        50\n",
              "Iris-versicolor    50\n",
              "Iris-virginica     50\n",
              "Name: species, dtype: int64"
            ]
          },
          "execution_count": 6,
          "metadata": {},
          "output_type": "execute_result"
        }
      ],
      "source": [
        "df[\"species\"].value_counts()"
      ]
    },
    {
      "cell_type": "code",
      "execution_count": null,
      "metadata": {
        "colab": {
          "base_uri": "https://localhost:8080/"
        },
        "id": "yTdWIhKVN7f0",
        "outputId": "c9abb954-7246-4f76-c167-0557a38ecd57"
      },
      "outputs": [
        {
          "data": {
            "text/plain": [
              "0    50\n",
              "1    50\n",
              "2    50\n",
              "Name: species, dtype: int64"
            ]
          },
          "execution_count": 8,
          "metadata": {},
          "output_type": "execute_result"
        }
      ],
      "source": [
        "dic={\"Iris-setosa\": 0, \"Iris-versicolor\":1 , \"Iris-virginica\":2}\n",
        "df[\"species\"]=df[\"species\"].map(dic)\n",
        "df[\"species\"].value_counts()"
      ]
    },
    {
      "cell_type": "code",
      "execution_count": null,
      "metadata": {
        "colab": {
          "base_uri": "https://localhost:8080/"
        },
        "id": "BMsyNJdjOev5",
        "outputId": "ae2538e8-3899-4189-c5cc-e7144fbc9724"
      },
      "outputs": [
        {
          "name": "stdout",
          "output_type": "stream",
          "text": [
            "<class 'pandas.core.frame.DataFrame'>\n",
            "RangeIndex: 150 entries, 0 to 149\n",
            "Data columns (total 5 columns):\n",
            " #   Column        Non-Null Count  Dtype  \n",
            "---  ------        --------------  -----  \n",
            " 0   sepal_length  144 non-null    float64\n",
            " 1   sepal_width   143 non-null    float64\n",
            " 2   petal_length  147 non-null    float64\n",
            " 3   petal_width   150 non-null    float64\n",
            " 4   species       150 non-null    int64  \n",
            "dtypes: float64(4), int64(1)\n",
            "memory usage: 6.0 KB\n"
          ]
        }
      ],
      "source": [
        "df.info()"
      ]
    },
    {
      "cell_type": "code",
      "execution_count": null,
      "metadata": {
        "colab": {
          "base_uri": "https://localhost:8080/"
        },
        "id": "Z16NpoJtPJWk",
        "outputId": "0f394e4f-f4c8-4d8a-8d31-8f9dc51f597f"
      },
      "outputs": [
        {
          "data": {
            "text/plain": [
              "sepal_length    6\n",
              "sepal_width     7\n",
              "petal_length    3\n",
              "petal_width     0\n",
              "species         0\n",
              "dtype: int64"
            ]
          },
          "execution_count": 10,
          "metadata": {},
          "output_type": "execute_result"
        }
      ],
      "source": [
        "df.isna().sum()"
      ]
    },
    {
      "cell_type": "code",
      "execution_count": null,
      "metadata": {
        "colab": {
          "base_uri": "https://localhost:8080/"
        },
        "id": "RmIlPOcbPTHD",
        "outputId": "19724c4d-c910-4d47-d01d-0f37421b0bb9"
      },
      "outputs": [
        {
          "name": "stdout",
          "output_type": "stream",
          "text": [
            "[[5.1 3.5 1.4 0.2]\n",
            " [nan 3.  1.4 0.2]\n",
            " [nan 3.2 1.3 0.2]\n",
            " [nan 3.1 nan 0.2]\n",
            " [nan 3.6 nan 0.2]\n",
            " [nan 3.9 nan 0.4]\n",
            " [nan 3.4 1.4 0.3]\n",
            " [5.  3.4 1.5 0.2]\n",
            " [4.4 nan 1.4 0.2]\n",
            " [4.9 nan 1.5 0.1]\n",
            " [5.4 nan 1.5 0.2]\n",
            " [4.8 nan 1.6 0.2]\n",
            " [4.8 nan 1.4 0.1]\n",
            " [4.3 nan 1.1 0.1]\n",
            " [5.8 nan 1.2 0.2]\n",
            " [5.7 4.4 1.5 0.4]\n",
            " [5.4 3.9 1.3 0.4]\n",
            " [5.1 3.5 1.4 0.3]\n",
            " [5.7 3.8 1.7 0.3]\n",
            " [5.1 3.8 1.5 0.3]\n",
            " [5.4 3.4 1.7 0.2]\n",
            " [5.1 3.7 1.5 0.4]\n",
            " [4.6 3.6 1.  0.2]\n",
            " [5.1 3.3 1.7 0.5]\n",
            " [4.8 3.4 1.9 0.2]\n",
            " [5.  3.  1.6 0.2]\n",
            " [5.  3.4 1.6 0.4]\n",
            " [5.2 3.5 1.5 0.2]\n",
            " [5.2 3.4 1.4 0.2]\n",
            " [4.7 3.2 1.6 0.2]\n",
            " [4.8 3.1 1.6 0.2]\n",
            " [5.4 3.4 1.5 0.4]\n",
            " [5.2 4.1 1.5 0.1]\n",
            " [5.5 4.2 1.4 0.2]\n",
            " [4.9 3.1 1.5 0.1]\n",
            " [5.  3.2 1.2 0.2]\n",
            " [5.5 3.5 1.3 0.2]\n",
            " [4.9 3.1 1.5 0.1]\n",
            " [4.4 3.  1.3 0.2]\n",
            " [5.1 3.4 1.5 0.2]\n",
            " [5.  3.5 1.3 0.3]\n",
            " [4.5 2.3 1.3 0.3]\n",
            " [4.4 3.2 1.3 0.2]\n",
            " [5.  3.5 1.6 0.6]\n",
            " [5.1 3.8 1.9 0.4]\n",
            " [4.8 3.  1.4 0.3]\n",
            " [5.1 3.8 1.6 0.2]\n",
            " [4.6 3.2 1.4 0.2]\n",
            " [5.3 3.7 1.5 0.2]\n",
            " [5.  3.3 1.4 0.2]\n",
            " [7.  3.2 4.7 1.4]\n",
            " [6.4 3.2 4.5 1.5]\n",
            " [6.9 3.1 4.9 1.5]\n",
            " [5.5 2.3 4.  1.3]\n",
            " [6.5 2.8 4.6 1.5]\n",
            " [5.7 2.8 4.5 1.3]\n",
            " [6.3 3.3 4.7 1.6]\n",
            " [4.9 2.4 3.3 1. ]\n",
            " [6.6 2.9 4.6 1.3]\n",
            " [5.2 2.7 3.9 1.4]\n",
            " [5.  2.  3.5 1. ]\n",
            " [5.9 3.  4.2 1.5]\n",
            " [6.  2.2 4.  1. ]\n",
            " [6.1 2.9 4.7 1.4]\n",
            " [5.6 2.9 3.6 1.3]\n",
            " [6.7 3.1 4.4 1.4]\n",
            " [5.6 3.  4.5 1.5]\n",
            " [5.8 2.7 4.1 1. ]\n",
            " [6.2 2.2 4.5 1.5]\n",
            " [5.6 2.5 3.9 1.1]\n",
            " [5.9 3.2 4.8 1.8]\n",
            " [6.1 2.8 4.  1.3]\n",
            " [6.3 2.5 4.9 1.5]\n",
            " [6.1 2.8 4.7 1.2]\n",
            " [6.4 2.9 4.3 1.3]\n",
            " [6.6 3.  4.4 1.4]\n",
            " [6.8 2.8 4.8 1.4]\n",
            " [6.7 3.  5.  1.7]\n",
            " [6.  2.9 4.5 1.5]\n",
            " [5.7 2.6 3.5 1. ]\n",
            " [5.5 2.4 3.8 1.1]\n",
            " [5.5 2.4 3.7 1. ]\n",
            " [5.8 2.7 3.9 1.2]\n",
            " [6.  2.7 5.1 1.6]\n",
            " [5.4 3.  4.5 1.5]\n",
            " [6.  3.4 4.5 1.6]\n",
            " [6.7 3.1 4.7 1.5]\n",
            " [6.3 2.3 4.4 1.3]\n",
            " [5.6 3.  4.1 1.3]\n",
            " [5.5 2.5 4.  1.3]\n",
            " [5.5 2.6 4.4 1.2]\n",
            " [6.1 3.  4.6 1.4]\n",
            " [5.8 2.6 4.  1.2]\n",
            " [5.  2.3 3.3 1. ]\n",
            " [5.6 2.7 4.2 1.3]\n",
            " [5.7 3.  4.2 1.2]\n",
            " [5.7 2.9 4.2 1.3]\n",
            " [6.2 2.9 4.3 1.3]\n",
            " [5.1 2.5 3.  1.1]\n",
            " [5.7 2.8 4.1 1.3]\n",
            " [6.3 3.3 6.  2.5]\n",
            " [5.8 2.7 5.1 1.9]\n",
            " [7.1 3.  5.9 2.1]\n",
            " [6.3 2.9 5.6 1.8]\n",
            " [6.5 3.  5.8 2.2]\n",
            " [7.6 3.  6.6 2.1]\n",
            " [4.9 2.5 4.5 1.7]\n",
            " [7.3 2.9 6.3 1.8]\n",
            " [6.7 2.5 5.8 1.8]\n",
            " [7.2 3.6 6.1 2.5]\n",
            " [6.5 3.2 5.1 2. ]\n",
            " [6.4 2.7 5.3 1.9]\n",
            " [6.8 3.  5.5 2.1]\n",
            " [5.7 2.5 5.  2. ]\n",
            " [5.8 2.8 5.1 2.4]\n",
            " [6.4 3.2 5.3 2.3]\n",
            " [6.5 3.  5.5 1.8]\n",
            " [7.7 3.8 6.7 2.2]\n",
            " [7.7 2.6 6.9 2.3]\n",
            " [6.  2.2 5.  1.5]\n",
            " [6.9 3.2 5.7 2.3]\n",
            " [5.6 2.8 4.9 2. ]\n",
            " [7.7 2.8 6.7 2. ]\n",
            " [6.3 2.7 4.9 1.8]\n",
            " [6.7 3.3 5.7 2.1]\n",
            " [7.2 3.2 6.  1.8]\n",
            " [6.2 2.8 4.8 1.8]\n",
            " [6.1 3.  4.9 1.8]\n",
            " [6.4 2.8 5.6 2.1]\n",
            " [7.2 3.  5.8 1.6]\n",
            " [7.4 2.8 6.1 1.9]\n",
            " [7.9 3.8 6.4 2. ]\n",
            " [6.4 2.8 5.6 2.2]\n",
            " [6.3 2.8 5.1 1.5]\n",
            " [6.1 2.6 5.6 1.4]\n",
            " [7.7 3.  6.1 2.3]\n",
            " [6.3 3.4 5.6 2.4]\n",
            " [6.4 3.1 5.5 1.8]\n",
            " [6.  3.  4.8 1.8]\n",
            " [6.9 3.1 5.4 2.1]\n",
            " [6.7 3.1 5.6 2.4]\n",
            " [6.9 3.1 5.1 2.3]\n",
            " [5.8 2.7 5.1 1.9]\n",
            " [6.8 3.2 5.9 2.3]\n",
            " [6.7 3.3 5.7 2.5]\n",
            " [6.7 3.  5.2 2.3]\n",
            " [6.3 2.5 5.  1.9]\n",
            " [6.5 3.  5.2 2. ]\n",
            " [6.2 3.4 5.4 2.3]\n",
            " [5.9 3.  5.1 1.8]]\n",
            "[0 0 0 0 0 0 0 0 0 0 0 0 0 0 0 0 0 0 0 0 0 0 0 0 0 0 0 0 0 0 0 0 0 0 0 0 0\n",
            " 0 0 0 0 0 0 0 0 0 0 0 0 0 1 1 1 1 1 1 1 1 1 1 1 1 1 1 1 1 1 1 1 1 1 1 1 1\n",
            " 1 1 1 1 1 1 1 1 1 1 1 1 1 1 1 1 1 1 1 1 1 1 1 1 1 1 2 2 2 2 2 2 2 2 2 2 2\n",
            " 2 2 2 2 2 2 2 2 2 2 2 2 2 2 2 2 2 2 2 2 2 2 2 2 2 2 2 2 2 2 2 2 2 2 2 2 2\n",
            " 2 2]\n"
          ]
        }
      ],
      "source": [
        "y=df[\"species\"].values\n",
        "x=df.drop([\"species\"],axis=1).values\n",
        "print(x)\n",
        "print(y)"
      ]
    },
    {
      "cell_type": "code",
      "execution_count": null,
      "metadata": {
        "colab": {
          "base_uri": "https://localhost:8080/"
        },
        "id": "ZV_lC3HhPnUu",
        "outputId": "d502c81d-5dc8-49da-ab67-b4bf4ae5f7bb"
      },
      "outputs": [
        {
          "data": {
            "text/plain": [
              "array([[5.1       , 3.5       , 1.4       , 0.2       ],\n",
              "       [5.88402778, 3.        , 1.4       , 0.2       ],\n",
              "       [5.88402778, 3.2       , 1.3       , 0.2       ],\n",
              "       [5.88402778, 3.1       , 3.80408163, 0.2       ],\n",
              "       [5.88402778, 3.6       , 3.80408163, 0.2       ],\n",
              "       [5.88402778, 3.9       , 3.80408163, 0.4       ],\n",
              "       [5.88402778, 3.4       , 1.4       , 0.3       ],\n",
              "       [5.        , 3.4       , 1.5       , 0.2       ],\n",
              "       [4.4       , 3.04195804, 1.4       , 0.2       ],\n",
              "       [4.9       , 3.04195804, 1.5       , 0.1       ],\n",
              "       [5.4       , 3.04195804, 1.5       , 0.2       ],\n",
              "       [4.8       , 3.04195804, 1.6       , 0.2       ],\n",
              "       [4.8       , 3.04195804, 1.4       , 0.1       ],\n",
              "       [4.3       , 3.04195804, 1.1       , 0.1       ],\n",
              "       [5.8       , 3.04195804, 1.2       , 0.2       ],\n",
              "       [5.7       , 4.4       , 1.5       , 0.4       ],\n",
              "       [5.4       , 3.9       , 1.3       , 0.4       ],\n",
              "       [5.1       , 3.5       , 1.4       , 0.3       ],\n",
              "       [5.7       , 3.8       , 1.7       , 0.3       ],\n",
              "       [5.1       , 3.8       , 1.5       , 0.3       ],\n",
              "       [5.4       , 3.4       , 1.7       , 0.2       ],\n",
              "       [5.1       , 3.7       , 1.5       , 0.4       ],\n",
              "       [4.6       , 3.6       , 1.        , 0.2       ],\n",
              "       [5.1       , 3.3       , 1.7       , 0.5       ],\n",
              "       [4.8       , 3.4       , 1.9       , 0.2       ],\n",
              "       [5.        , 3.        , 1.6       , 0.2       ],\n",
              "       [5.        , 3.4       , 1.6       , 0.4       ],\n",
              "       [5.2       , 3.5       , 1.5       , 0.2       ],\n",
              "       [5.2       , 3.4       , 1.4       , 0.2       ],\n",
              "       [4.7       , 3.2       , 1.6       , 0.2       ],\n",
              "       [4.8       , 3.1       , 1.6       , 0.2       ],\n",
              "       [5.4       , 3.4       , 1.5       , 0.4       ],\n",
              "       [5.2       , 4.1       , 1.5       , 0.1       ],\n",
              "       [5.5       , 4.2       , 1.4       , 0.2       ],\n",
              "       [4.9       , 3.1       , 1.5       , 0.1       ],\n",
              "       [5.        , 3.2       , 1.2       , 0.2       ],\n",
              "       [5.5       , 3.5       , 1.3       , 0.2       ],\n",
              "       [4.9       , 3.1       , 1.5       , 0.1       ],\n",
              "       [4.4       , 3.        , 1.3       , 0.2       ],\n",
              "       [5.1       , 3.4       , 1.5       , 0.2       ],\n",
              "       [5.        , 3.5       , 1.3       , 0.3       ],\n",
              "       [4.5       , 2.3       , 1.3       , 0.3       ],\n",
              "       [4.4       , 3.2       , 1.3       , 0.2       ],\n",
              "       [5.        , 3.5       , 1.6       , 0.6       ],\n",
              "       [5.1       , 3.8       , 1.9       , 0.4       ],\n",
              "       [4.8       , 3.        , 1.4       , 0.3       ],\n",
              "       [5.1       , 3.8       , 1.6       , 0.2       ],\n",
              "       [4.6       , 3.2       , 1.4       , 0.2       ],\n",
              "       [5.3       , 3.7       , 1.5       , 0.2       ],\n",
              "       [5.        , 3.3       , 1.4       , 0.2       ],\n",
              "       [7.        , 3.2       , 4.7       , 1.4       ],\n",
              "       [6.4       , 3.2       , 4.5       , 1.5       ],\n",
              "       [6.9       , 3.1       , 4.9       , 1.5       ],\n",
              "       [5.5       , 2.3       , 4.        , 1.3       ],\n",
              "       [6.5       , 2.8       , 4.6       , 1.5       ],\n",
              "       [5.7       , 2.8       , 4.5       , 1.3       ],\n",
              "       [6.3       , 3.3       , 4.7       , 1.6       ],\n",
              "       [4.9       , 2.4       , 3.3       , 1.        ],\n",
              "       [6.6       , 2.9       , 4.6       , 1.3       ],\n",
              "       [5.2       , 2.7       , 3.9       , 1.4       ],\n",
              "       [5.        , 2.        , 3.5       , 1.        ],\n",
              "       [5.9       , 3.        , 4.2       , 1.5       ],\n",
              "       [6.        , 2.2       , 4.        , 1.        ],\n",
              "       [6.1       , 2.9       , 4.7       , 1.4       ],\n",
              "       [5.6       , 2.9       , 3.6       , 1.3       ],\n",
              "       [6.7       , 3.1       , 4.4       , 1.4       ],\n",
              "       [5.6       , 3.        , 4.5       , 1.5       ],\n",
              "       [5.8       , 2.7       , 4.1       , 1.        ],\n",
              "       [6.2       , 2.2       , 4.5       , 1.5       ],\n",
              "       [5.6       , 2.5       , 3.9       , 1.1       ],\n",
              "       [5.9       , 3.2       , 4.8       , 1.8       ],\n",
              "       [6.1       , 2.8       , 4.        , 1.3       ],\n",
              "       [6.3       , 2.5       , 4.9       , 1.5       ],\n",
              "       [6.1       , 2.8       , 4.7       , 1.2       ],\n",
              "       [6.4       , 2.9       , 4.3       , 1.3       ],\n",
              "       [6.6       , 3.        , 4.4       , 1.4       ],\n",
              "       [6.8       , 2.8       , 4.8       , 1.4       ],\n",
              "       [6.7       , 3.        , 5.        , 1.7       ],\n",
              "       [6.        , 2.9       , 4.5       , 1.5       ],\n",
              "       [5.7       , 2.6       , 3.5       , 1.        ],\n",
              "       [5.5       , 2.4       , 3.8       , 1.1       ],\n",
              "       [5.5       , 2.4       , 3.7       , 1.        ],\n",
              "       [5.8       , 2.7       , 3.9       , 1.2       ],\n",
              "       [6.        , 2.7       , 5.1       , 1.6       ],\n",
              "       [5.4       , 3.        , 4.5       , 1.5       ],\n",
              "       [6.        , 3.4       , 4.5       , 1.6       ],\n",
              "       [6.7       , 3.1       , 4.7       , 1.5       ],\n",
              "       [6.3       , 2.3       , 4.4       , 1.3       ],\n",
              "       [5.6       , 3.        , 4.1       , 1.3       ],\n",
              "       [5.5       , 2.5       , 4.        , 1.3       ],\n",
              "       [5.5       , 2.6       , 4.4       , 1.2       ],\n",
              "       [6.1       , 3.        , 4.6       , 1.4       ],\n",
              "       [5.8       , 2.6       , 4.        , 1.2       ],\n",
              "       [5.        , 2.3       , 3.3       , 1.        ],\n",
              "       [5.6       , 2.7       , 4.2       , 1.3       ],\n",
              "       [5.7       , 3.        , 4.2       , 1.2       ],\n",
              "       [5.7       , 2.9       , 4.2       , 1.3       ],\n",
              "       [6.2       , 2.9       , 4.3       , 1.3       ],\n",
              "       [5.1       , 2.5       , 3.        , 1.1       ],\n",
              "       [5.7       , 2.8       , 4.1       , 1.3       ],\n",
              "       [6.3       , 3.3       , 6.        , 2.5       ],\n",
              "       [5.8       , 2.7       , 5.1       , 1.9       ],\n",
              "       [7.1       , 3.        , 5.9       , 2.1       ],\n",
              "       [6.3       , 2.9       , 5.6       , 1.8       ],\n",
              "       [6.5       , 3.        , 5.8       , 2.2       ],\n",
              "       [7.6       , 3.        , 6.6       , 2.1       ],\n",
              "       [4.9       , 2.5       , 4.5       , 1.7       ],\n",
              "       [7.3       , 2.9       , 6.3       , 1.8       ],\n",
              "       [6.7       , 2.5       , 5.8       , 1.8       ],\n",
              "       [7.2       , 3.6       , 6.1       , 2.5       ],\n",
              "       [6.5       , 3.2       , 5.1       , 2.        ],\n",
              "       [6.4       , 2.7       , 5.3       , 1.9       ],\n",
              "       [6.8       , 3.        , 5.5       , 2.1       ],\n",
              "       [5.7       , 2.5       , 5.        , 2.        ],\n",
              "       [5.8       , 2.8       , 5.1       , 2.4       ],\n",
              "       [6.4       , 3.2       , 5.3       , 2.3       ],\n",
              "       [6.5       , 3.        , 5.5       , 1.8       ],\n",
              "       [7.7       , 3.8       , 6.7       , 2.2       ],\n",
              "       [7.7       , 2.6       , 6.9       , 2.3       ],\n",
              "       [6.        , 2.2       , 5.        , 1.5       ],\n",
              "       [6.9       , 3.2       , 5.7       , 2.3       ],\n",
              "       [5.6       , 2.8       , 4.9       , 2.        ],\n",
              "       [7.7       , 2.8       , 6.7       , 2.        ],\n",
              "       [6.3       , 2.7       , 4.9       , 1.8       ],\n",
              "       [6.7       , 3.3       , 5.7       , 2.1       ],\n",
              "       [7.2       , 3.2       , 6.        , 1.8       ],\n",
              "       [6.2       , 2.8       , 4.8       , 1.8       ],\n",
              "       [6.1       , 3.        , 4.9       , 1.8       ],\n",
              "       [6.4       , 2.8       , 5.6       , 2.1       ],\n",
              "       [7.2       , 3.        , 5.8       , 1.6       ],\n",
              "       [7.4       , 2.8       , 6.1       , 1.9       ],\n",
              "       [7.9       , 3.8       , 6.4       , 2.        ],\n",
              "       [6.4       , 2.8       , 5.6       , 2.2       ],\n",
              "       [6.3       , 2.8       , 5.1       , 1.5       ],\n",
              "       [6.1       , 2.6       , 5.6       , 1.4       ],\n",
              "       [7.7       , 3.        , 6.1       , 2.3       ],\n",
              "       [6.3       , 3.4       , 5.6       , 2.4       ],\n",
              "       [6.4       , 3.1       , 5.5       , 1.8       ],\n",
              "       [6.        , 3.        , 4.8       , 1.8       ],\n",
              "       [6.9       , 3.1       , 5.4       , 2.1       ],\n",
              "       [6.7       , 3.1       , 5.6       , 2.4       ],\n",
              "       [6.9       , 3.1       , 5.1       , 2.3       ],\n",
              "       [5.8       , 2.7       , 5.1       , 1.9       ],\n",
              "       [6.8       , 3.2       , 5.9       , 2.3       ],\n",
              "       [6.7       , 3.3       , 5.7       , 2.5       ],\n",
              "       [6.7       , 3.        , 5.2       , 2.3       ],\n",
              "       [6.3       , 2.5       , 5.        , 1.9       ],\n",
              "       [6.5       , 3.        , 5.2       , 2.        ],\n",
              "       [6.2       , 3.4       , 5.4       , 2.3       ],\n",
              "       [5.9       , 3.        , 5.1       , 1.8       ]])"
            ]
          },
          "execution_count": 14,
          "metadata": {},
          "output_type": "execute_result"
        }
      ],
      "source": [
        "from sklearn.impute import SimpleImputer\n",
        "si=SimpleImputer(strategy=\"mean\")\n",
        "x_new=si.fit_transform(x)\n",
        "x_new"
      ]
    },
    {
      "cell_type": "code",
      "execution_count": null,
      "metadata": {
        "id": "hKhynN75Q8d8"
      },
      "outputs": [],
      "source": [
        "from sklearn.model_selection import train_test_split\n",
        "x_train,x_test,y_train,y_test=train_test_split(x_new,y,test_size=0.3,random_state=0)"
      ]
    },
    {
      "cell_type": "code",
      "execution_count": null,
      "metadata": {
        "id": "2kMeAhbdRrLF"
      },
      "outputs": [],
      "source": [
        "from sklearn.linear_model import Perceptron,LogisticRegression\n",
        "from sklearn.svm import SVC\n",
        "from sklearn.naive_bayes import GaussianNB\n",
        "from sklearn.neighbors import KNeighborsClassifier\n",
        "from sklearn.tree import DecisionTreeClassifier\n",
        "from sklearn.ensemble import RandomForestClassifier,BaggingClassifier,ExtraTreesClassifier\n",
        "from sklearn.ensemble import AdaBoostClassifier,GradientBoostingClassifier\n",
        "from sklearn.ensemble import VotingClassifier\n",
        "c1f1=Perceptron()\n",
        "c1f2=LogisticRegression()\n",
        "c1f3=SVC()\n",
        "c1f4=GaussianNB()\n",
        "c1f5=KNeighborsClassifier()\n",
        "c1f6=DecisionTreeClassifier()\n",
        "c1f7=RandomForestClassifier()\n",
        "c1f8=BaggingClassifier()\n",
        "c1f9=ExtraTreesClassifier()\n",
        "c1f10=AdaBoostClassifier()\n",
        "c1f11=GradientBoostingClassifier()\n",
        "c1f12=VotingClassifier (estimators=[('dt', c1f6), ('knn', c1f5), ('svm', c1f3)] ,weights=[1,1,1], voting='hard')"
      ]
    },
    {
      "cell_type": "code",
      "execution_count": null,
      "metadata": {
        "colab": {
          "base_uri": "https://localhost:8080/"
        },
        "id": "aHkjHt7zUGds",
        "outputId": "89d6c3fe-0748-4256-bc64-65261bd7ca7d"
      },
      "outputs": [
        {
          "name": "stderr",
          "output_type": "stream",
          "text": [
            "/usr/local/lib/python3.10/dist-packages/sklearn/linear_model/_logistic.py:458: ConvergenceWarning: lbfgs failed to converge (status=1):\n",
            "STOP: TOTAL NO. of ITERATIONS REACHED LIMIT.\n",
            "\n",
            "Increase the number of iterations (max_iter) or scale the data as shown in:\n",
            "    https://scikit-learn.org/stable/modules/preprocessing.html\n",
            "Please also refer to the documentation for alternative solver options:\n",
            "    https://scikit-learn.org/stable/modules/linear_model.html#logistic-regression\n",
            "  n_iter_i = _check_optimize_result(\n"
          ]
        }
      ],
      "source": [
        "clf=[c1f1 , c1f2 , c1f3 , c1f4 , c1f5 , c1f7, c1f8,c1f9,c1f10,c1f11,c1f12]\n",
        "clf_name=[\"PER\" , \"LR\" , \"SVC\" , \"GNB\" ,\"KNN\", \"DT\" , \"RF\" , \"BAG\" , \"ET\" , \"ADA\" , \"GBC\" , \"VOT\"]\n",
        "acc={}\n",
        "t={}\n",
        "import time\n",
        "from sklearn.metrics import accuracy_score\n",
        "for model, model_name in zip(clf,clf_name):\n",
        "  st=time.time()\n",
        "  model.fit(x_train , y_train)\n",
        "  pred=model.predict(x_test)\n",
        "  et=time.time()\n",
        "  acc[model_name]=accuracy_score(pred,y_test)\n",
        "  t[model_name]=et-st\n"
      ]
    },
    {
      "cell_type": "code",
      "execution_count": null,
      "metadata": {
        "colab": {
          "base_uri": "https://localhost:8080/",
          "height": 447
        },
        "id": "SQyy4lMWXF70",
        "outputId": "364afaca-0c51-44a1-e94b-e79012c861f4"
      },
      "outputs": [
        {
          "data": {
            "text/plain": [
              "<BarContainer object of 11 artists>"
            ]
          },
          "execution_count": 24,
          "metadata": {},
          "output_type": "execute_result"
        },
        {
          "data": {
            "image/png": "[encoded data removed]",
            "text/plain": [
              "<Figure size 640x480 with 1 Axes>"
            ]
          },
          "metadata": {},
          "output_type": "display_data"
        }
      ],
      "source": [
        "import matplotlib.pyplot as plt\n",
        "plt.bar(acc.keys(),acc.values())\n"
      ]
    },
    {
      "cell_type": "code",
      "execution_count": null,
      "metadata": {
        "colab": {
          "base_uri": "https://localhost:8080/",
          "height": 447
        },
        "id": "zGNbHUDvV6Z1",
        "outputId": "6b34a1b9-bb0a-4856-a4d2-33d4667dd54c"
      },
      "outputs": [
        {
          "data": {
            "text/plain": [
              "<BarContainer object of 11 artists>"
            ]
          },
          "execution_count": 25,
          "metadata": {},
          "output_type": "execute_result"
        },
        {
          "data": {
            "image/png": "[encoded data removed]",
            "text/plain": [
              "<Figure size 640x480 with 1 Axes>"
            ]
          },
          "metadata": {},
          "output_type": "display_data"
        }
      ],
      "source": [
        "plt.bar(t.keys() , t.values())"
      ]
    },
    {
      "cell_type": "code",
      "execution_count": null,
      "metadata": {
        "colab": {
          "base_uri": "https://localhost:8080/"
        },
        "id": "yOKJn1sdYtf9",
        "outputId": "44fc9c3e-1899-4099-b328-820721c1d609"
      },
      "outputs": [
        {
          "name": "stdout",
          "output_type": "stream",
          "text": [
            "PER :- 0.6444444444444445\n",
            "LR :- 0.9777777777777777\n",
            "SVC :- 0.9777777777777777\n",
            "GNB :- 1.0\n",
            "KNN :- 0.9777777777777777\n",
            "DT :- 0.9777777777777777\n",
            "RF :- 0.9555555555555556\n",
            "BAG :- 0.9777777777777777\n",
            "ET :- 0.9111111111111111\n",
            "ADA :- 0.9777777777777777\n",
            "GBC :- 0.9777777777777777\n"
          ]
        }
      ],
      "source": [
        "for i,j in acc.items():\n",
        "  print(i,\":-\",j)"
      ]
    },
    {
      "cell_type": "code",
      "execution_count": null,
      "metadata": {
        "colab": {
          "background_save": true
        },
        "id": "LR-1SGDeY2O9",
        "outputId": "cf6fe189-4f48-4570-b08e-3ce853384b02"
      },
      "outputs": [
        {
          "name": "stdout",
          "output_type": "stream",
          "text": [
            "RandomForestClassifier(criterion='entropy', max_depth=8, n_estimators=10)\n",
            "0.9777777777777777\n"
          ]
        }
      ],
      "source": [
        "from sklearn.ensemble import RandomForestClassifier\n",
        "rf=RandomForestClassifier()\n",
        "from sklearn.model_selection import GridSearchCV\n",
        "para_grid={'n_estimators': [10, 20, 30, 40, 50, 60, 70, 80, 90, 100],\n",
        "           'max_depth': [1,2,3,4,5,6,7,8,9,None],\n",
        "           'criterion': ['gini', 'entropy']\n",
        "           }\n",
        "clf=GridSearchCV(estimator=rf, param_grid=para_grid)\n",
        "clf.fit(x_train, y_train)\n",
        "my_model=clf.best_estimator_\n",
        "print(my_model)\n",
        "print(accuracy_score(y_test, my_model.predict(x_test)))"
      ]
    },
    {
      "cell_type": "code",
      "execution_count": null,
      "metadata": {
        "id": "nVMYLoRmZ7rb"
      },
      "outputs": [],
      "source": []
    }
  ],
  "metadata": {
    "colab": {
      "provenance": [],
      "authorship_tag": "ABX9TyM7+XB6uumxbtgDgPeZRXx1",
      "include_colab_link": true
    },
    "kernelspec": {
      "display_name": "Python 3",
      "name": "python3"
    },
    "language_info": {
      "name": "python"
    }
  },
  "nbformat": 4,
  "nbformat_minor": 0
}